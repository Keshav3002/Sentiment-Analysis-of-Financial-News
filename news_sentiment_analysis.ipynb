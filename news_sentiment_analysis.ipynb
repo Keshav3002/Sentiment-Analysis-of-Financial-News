{
 "cells": [
  {
   "cell_type": "code",
   "execution_count": 11,
   "id": "411b59cc",
   "metadata": {},
   "outputs": [],
   "source": [
    "import pandas as pd\n",
    "from sklearn.feature_extraction.text import TfidfVectorizer\n",
    "from sklearn.model_selection import train_test_split\n",
    "from sklearn.metrics import accuracy_score, f1_score, recall_score, precision_score\n",
    "from sklearn.svm import SVC\n",
    "import re"
   ]
  },
  {
   "cell_type": "code",
   "execution_count": 12,
   "id": "639bde2b",
   "metadata": {},
   "outputs": [],
   "source": [
    "def cleaner(impure_data):\n",
    "    temp_list = []\n",
    "    for item in impure_data:\n",
    "        #finding words which start with @\n",
    "        item = re.sub('@\\S+', '', item)\n",
    "        \n",
    "        #finding words which start with http\n",
    "        item = re.sub('http\\S+\\s*', '', item)\n",
    "        \n",
    "        #finding special characters, but not \"emoji\"\n",
    "        item = re.sub('[%s]' % re.escape(\"\"\"!\"#$%&'()*+,-./:;<=>?@[\\]^_`{|}~\"\"\"), '', item)\n",
    "        temp_list.append(item)\n",
    "    return temp_list"
   ]
  },
  {
   "cell_type": "code",
   "execution_count": 18,
   "id": "3f9fb5c3",
   "metadata": {},
   "outputs": [],
   "source": [
    "def news_sentiment():\n",
    "    #reading the news from csv files\n",
    "    df = pd.read_csv(\"C://Users//kkesh//Desktop//financialNews.csv\")\n",
    "    #df.columns = ['Title', 'Decisions']\n",
    "    l = [i.split(',') for i in df['Decisions']]\n",
    "    l1 = [i for i in range(len(l)) if len(l[i])>1]\n",
    "    # print(l)\n",
    "    idx = [i for i in range(len(df)) if i not in l1]\n",
    "    df2 = df.filter(items=idx,axis=0)\n",
    "    x = df2['Decisions'][0].split(':')[1][1:-1][1:-1]\n",
    "    df2['sentiment'] = [i.split(':')[1][1:-1][1:-1] for i in df2['Decisions']]\n",
    "    news = df2[\"Title\"]\n",
    "    polarity = df2[\"sentiment\"].tolist()\n",
    "    print(len(polarity))\n",
    "    \n",
    "    #cleaning news i.e. removing :, \"\", http(s) links and special characters such as punctuations\n",
    "    clean_news = cleaner(news)\n",
    "    \n",
    "    #initializing tf-idf vectorizer\n",
    "    tf_idfvectorizer = TfidfVectorizer(sublinear_tf=True, use_idf=True)\n",
    "    \n",
    "    #splitting the data into train and test dataset in 70 : 30 ratio at random\n",
    "    X_train, X_test, Y_train, Y_test = train_test_split(clean_news, polarity, test_size = 0.3)\n",
    "    \n",
    "    #vectorizing the training data\n",
    "    #fit_transform() does two jobs, fit() and transform()\n",
    "    #fit calculates the statistics of the data\n",
    "    #transform takes care of any missing values or unexpected values by utilizing statistics calculated by fit\n",
    "    train_corpus_tf_idf = tf_idfvectorizer.fit_transform(X_train) \n",
    "        \n",
    "    #vectorizing the testing data\n",
    "    #transform takes care of any missing values or unexpected values based on fit for training data\n",
    "    test_corpus_tf_idf = tf_idfvectorizer.transform(X_test)\n",
    "    \n",
    "    #using SVC package to initialize a classifier with Linear kernel and other default parameters\n",
    "    SVM_L = SVC(kernel= 'linear',C=1)\n",
    "    \n",
    "    #fitting the sparse matrix in the classifier with their respective sentiments\n",
    "    SVM_L.fit(train_corpus_tf_idf, Y_train)\n",
    "    \n",
    "    #predicting the sentiments for the test dataset\n",
    "    Y_pred = SVM_L.predict(test_corpus_tf_idf)\n",
    "    Y_train_pred = SVM_L.predict(train_corpus_tf_idf)\n",
    "    \n",
    "    #this print accuracy score for the test dataset\n",
    "    print(\"Train Accuracy\",accuracy_score(Y_train,Y_train_pred))\n",
    "    print(\"Test Accuracy\",accuracy_score(Y_test,Y_pred))\n",
    "    \n",
    "    \n",
    "    #saving the data into a csv file in the current folder\n",
    "    temp_df = pd.DataFrame()\n",
    "    temp_df[\"News\"] = X_test\n",
    "    temp_df[\"Sentiment\"] = Y_test\n",
    "    temp_df[\"Predicted Sentiment\"] = Y_pred\n",
    "    temp_df.to_csv(\"predicted_financialNews.csv\")\n",
    "\n",
    "    return(tf_idfvectorizer,SVM_L)"
   ]
  },
  {
   "cell_type": "code",
   "execution_count": 19,
   "id": "847c7018",
   "metadata": {},
   "outputs": [
    {
     "name": "stdout",
     "output_type": "stream",
     "text": [
      "7897\n",
      "Train Accuracy 0.9509679753935227\n",
      "Test Accuracy 0.8021097046413502\n"
     ]
    }
   ],
   "source": [
    "vectorizer,model = news_sentiment()"
   ]
  },
  {
   "cell_type": "code",
   "execution_count": 20,
   "id": "efc83bff",
   "metadata": {},
   "outputs": [
    {
     "name": "stdout",
     "output_type": "stream",
     "text": [
      "['positive']\n"
     ]
    }
   ],
   "source": [
    "vector = vectorizer.transform([\"Rebound for Russia and China lifts stocks\"])\n",
    "sentiment = model.predict(vector)\n",
    "print(sentiment)"
   ]
  },
  {
   "cell_type": "code",
   "execution_count": 21,
   "id": "f635cc5d",
   "metadata": {},
   "outputs": [
    {
     "name": "stdout",
     "output_type": "stream",
     "text": [
      "['neutral']\n"
     ]
    }
   ],
   "source": [
    "vector = vectorizer.transform([\"Sebi seeks clarification on RINL IPO\"])\n",
    "sentiment = model.predict(vector)\n",
    "print(sentiment)"
   ]
  },
  {
   "cell_type": "code",
   "execution_count": 25,
   "id": "de7a0a1b",
   "metadata": {},
   "outputs": [
    {
     "name": "stdout",
     "output_type": "stream",
     "text": [
      "['negative']\n"
     ]
    }
   ],
   "source": [
    "vector = vectorizer.transform([\"At Wipro, growth remains at low\"])\n",
    "sentiment = model.predict(vector)\n",
    "print(sentiment)"
   ]
  },
  {
   "cell_type": "code",
   "execution_count": null,
   "id": "8c56ecde",
   "metadata": {},
   "outputs": [],
   "source": []
  }
 ],
 "metadata": {
  "kernelspec": {
   "display_name": "Python 3 (ipykernel)",
   "language": "python",
   "name": "python3"
  },
  "language_info": {
   "codemirror_mode": {
    "name": "ipython",
    "version": 3
   },
   "file_extension": ".py",
   "mimetype": "text/x-python",
   "name": "python",
   "nbconvert_exporter": "python",
   "pygments_lexer": "ipython3",
   "version": "3.9.7"
  }
 },
 "nbformat": 4,
 "nbformat_minor": 5
}
